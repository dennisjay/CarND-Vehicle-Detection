{
 "cells": [
  {
   "cell_type": "markdown",
   "metadata": {},
   "source": [
    "## Load images"
   ]
  },
  {
   "cell_type": "code",
   "execution_count": null,
   "metadata": {},
   "outputs": [],
   "source": [
    "import glob\n",
    "import cv2\n",
    "import numpy as np\n",
    "import matplotlib.pyplot as plt\n",
    "from sklearn.cross_validation import train_test_split\n",
    "from sklearn.preprocessing import StandardScaler\n",
    "from sklearn.svm import LinearSVC"
   ]
  },
  {
   "cell_type": "code",
   "execution_count": null,
   "metadata": {
    "collapsed": true
   },
   "outputs": [],
   "source": [
    "vehicles = []\n",
    "non_vehicles = []\n",
    "\n",
    "for file in glob.glob( 'train_data/vehicles/**/*.png'):\n",
    "    vehicles.append( file )\n",
    "\n",
    "for file in glob.glob( 'train_data/non-vehicles/**/*.png'):\n",
    "    non_vehicles.append( file )"
   ]
  },
  {
   "cell_type": "markdown",
   "metadata": {},
   "source": [
    "## Extract Features"
   ]
  },
  {
   "cell_type": "markdown",
   "metadata": {},
   "source": [
    "The features should be extracted for the following images"
   ]
  },
  {
   "cell_type": "code",
   "execution_count": null,
   "metadata": {},
   "outputs": [],
   "source": [
    "%matplotlib inline\n",
    "import matplotlib.image as mpimg\n",
    "\n",
    "car_ex = mpimg.imread(vehicles[0])\n",
    "noncar_ex = mpimg.imread(non_vehicles[0])\n",
    "\n",
    "f, (ax1, ax2) = plt.subplots(1, 2, figsize=(20,5))\n",
    "ax1.imshow(car_ex)\n",
    "ax1.set_title('Car Image', fontsize=30)\n",
    "ax2.imshow(noncar_ex)\n",
    "ax2.set_title('Noncar Image', fontsize=30)"
   ]
  },
  {
   "cell_type": "markdown",
   "metadata": {},
   "source": [
    "While Parameter tuning found the following paramters for optimal accurency:"
   ]
  },
  {
   "cell_type": "code",
   "execution_count": null,
   "metadata": {},
   "outputs": [],
   "source": [
    "from feature_extraction import extract_features, get_hog_features\n",
    "\n",
    "image = mpimg.imread(vehicles[2])\n",
    "image = cv2.cvtColor(image, cv2.COLOR_RGB2YCrCb)\n",
    "\n",
    "orient = 9\n",
    "pix_per_cell = 8\n",
    "cell_per_block = 2\n",
    "spatial_size = (32, 32)\n",
    "hog_channel='ALL'\n",
    "nb_bins = 32\n",
    "\n",
    "channel = image[:,:,0]\n",
    "features, img = get_hog_features( channel, orient, pix_per_cell, cell_per_block, True, True )\n",
    "\n",
    "f, (ax1, ax2, ax3) = plt.subplots(1, 3, figsize=(20,5))\n",
    "ax1.imshow(channel)\n",
    "ax1.set_title('Original Image', fontsize=30)\n",
    "ax2.imshow(img)\n",
    "ax2.set_title('Gradient', fontsize=30)\n",
    "ax3.plot( features )\n",
    "ax3.set_title('Histogram', fontsize=30)"
   ]
  },
  {
   "cell_type": "markdown",
   "metadata": {
    "collapsed": true
   },
   "source": [
    "Do the following for all images"
   ]
  },
  {
   "cell_type": "code",
   "execution_count": null,
   "metadata": {},
   "outputs": [],
   "source": [
    "params = dict(\n",
    "    cspace='YCrCb',\n",
    "    orient=orient,\n",
    "    pix_per_cell=pix_per_cell,\n",
    "    cell_per_block=cell_per_block,\n",
    "    hog_channel=hog_channel, \n",
    "    nb_bins=nb_bins,\n",
    "    spatial_size=spatial_size\n",
    ")\n",
    "\n",
    "vehicle_features, non_vehicle_features = extract_features( vehicles, **params ), extract_features( non_vehicles, **params )"
   ]
  },
  {
   "cell_type": "markdown",
   "metadata": {},
   "source": [
    "## Train model"
   ]
  },
  {
   "cell_type": "code",
   "execution_count": null,
   "metadata": {
    "collapsed": true
   },
   "outputs": [],
   "source": [
    "rand_state = np.random.randint(0, 100)\n",
    "\n",
    "X = np.vstack((vehicle_features, non_vehicle_features)).astype(np.float64)\n",
    "# Fit a per-column scaler\n",
    "X_scaler = StandardScaler().fit(X)\n",
    "# Apply the scaler to X\n",
    "scaled_X = X_scaler.transform(X)\n",
    "\n",
    "y = np.hstack((np.ones(len(vehicle_features)), np.zeros(len(non_vehicle_features)))) \n",
    "X_train, X_test, y_train, y_test = train_test_split(scaled_X, y, test_size=0.2, random_state=rand_state)"
   ]
  },
  {
   "cell_type": "code",
   "execution_count": null,
   "metadata": {},
   "outputs": [],
   "source": [
    "svc = LinearSVC(C=0.0001)\n",
    "svc.fit(X_train, y_train)\n",
    "svc.score(X_test, y_test)"
   ]
  },
  {
   "cell_type": "code",
   "execution_count": null,
   "metadata": {},
   "outputs": [],
   "source": [
    "from sklearn.externals import joblib\n",
    "\n",
    "params['scaler'] = X_scaler\n",
    "params['svc'] = svc\n",
    "\n",
    "joblib.dump( params, 'model.pkl')"
   ]
  },
  {
   "cell_type": "code",
   "execution_count": null,
   "metadata": {
    "collapsed": true
   },
   "outputs": [],
   "source": []
  }
 ],
 "metadata": {
  "kernelspec": {
   "display_name": "Python 3",
   "language": "python",
   "name": "python3"
  },
  "language_info": {
   "codemirror_mode": {
    "name": "ipython",
    "version": 3
   },
   "file_extension": ".py",
   "mimetype": "text/x-python",
   "name": "python",
   "nbconvert_exporter": "python",
   "pygments_lexer": "ipython3",
   "version": "3.6.1"
  }
 },
 "nbformat": 4,
 "nbformat_minor": 1
}
